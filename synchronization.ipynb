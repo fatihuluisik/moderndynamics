{
 "cells": [
  {
   "cell_type": "code",
   "execution_count": 7,
   "id": "d8c95c2b",
   "metadata": {},
   "outputs": [
    {
     "data": {
      "application/vnd.jupyter.widget-view+json": {
       "model_id": "4131f1e727fa49e6b532534eb761fcb8",
       "version_major": 2,
       "version_minor": 0
      },
      "text/plain": [
       "interactive(children=(FloatSlider(value=0.45, description='b1', max=1.0, step=0.01), Output()), _dom_classes=(…"
      ]
     },
     "metadata": {},
     "output_type": "display_data"
    }
   ],
   "source": [
    "import numpy as np\n",
    "import matplotlib.pyplot as plt\n",
    "from ipywidgets import interact, FloatSlider\n",
    "import ipywidgets as widgets\n",
    "\n",
    "def simulate(b1):\n",
    "    a2 = 5.0  # phase shift\n",
    "    a3 = 0.15 # frequency\n",
    "    a4= 0.09\n",
    "    c1 = 0    # master oscillator\n",
    "    c2 = 0    # slave oscillator\n",
    "    g1 = a2\n",
    "    g2 = 0\n",
    "    c1a = []\n",
    "    c2a = []\n",
    "    time = []\n",
    "    t = 1\n",
    "    i = 0\n",
    "    locked1=[]\n",
    "    locked2=[]\n",
    "    while i < 3000:\n",
    "        i += 1\n",
    "        g1 += a3\n",
    "        g2 += a4\n",
    "        c1 = g1\n",
    "        c2 = g2\n",
    "        if g1 > 20:\n",
    "            g2 += b1 *  abs(c1 - c2)\n",
    "            \n",
    "        c1a.append(c1)\n",
    "        c2a.append(c2)\n",
    "        if g2 > 20:\n",
    "            g2 = 0\n",
    "            locked2.append(i)\n",
    "        if g1 > 20:\n",
    "            g1 = 0\n",
    "            locked1.append(i) \n",
    "        time.append(t)\n",
    "        t += 1\n",
    "\n",
    "    plt.figure(figsize=(14, 5))\n",
    "    plt.plot(time, c1a, 'r', label='c1 (master)')\n",
    "    plt.plot(time, c2a, 'b', label='c2 (slave)')\n",
    "    plt.xlabel('Time')\n",
    "    plt.ylabel('Oscillator value')\n",
    "    plt.title(f'g = {b1}')\n",
    "    plt.legend()\n",
    "    plt.grid(True)\n",
    "    plt.show()\n",
    "\n",
    "# b1 için slider widget\n",
    "interact(simulate, b1=FloatSlider(value=0.45, min=0.0, max=1.0, step=0.01, description='b1'));\n",
    "\n",
    "\n"
   ]
  },
  {
   "cell_type": "code",
   "execution_count": 4,
   "id": "b288ba01",
   "metadata": {},
   "outputs": [
    {
     "data": {
      "application/vnd.jupyter.widget-view+json": {
       "model_id": "56fcd9b228d7400687e03c20d0a2f3df",
       "version_major": 2,
       "version_minor": 0
      },
      "text/plain": [
       "interactive(children=(FloatSlider(value=0.5, description='b1', max=1.4, step=0.01), Output()), _dom_classes=('…"
      ]
     },
     "metadata": {},
     "output_type": "display_data"
    },
    {
     "data": {
      "text/plain": [
       "<function __main__.oscillator_model(b1)>"
      ]
     },
     "execution_count": 4,
     "metadata": {},
     "output_type": "execute_result"
    }
   ],
   "source": [
    "import numpy as np\n",
    "import matplotlib.pyplot as plt\n",
    "from ipywidgets import interact, FloatSlider\n",
    "\n",
    "def oscillator_model(b1):\n",
    "    a2 = 5.0  # phase shift\n",
    "    a3 = 0.18 # master frequency\n",
    "    a4 = 0.09 # slave frequency\n",
    "    g1 = a2\n",
    "    g2 = 0\n",
    "    c1a = []\n",
    "    c2a = []\n",
    "    time = []\n",
    "    t = 1\n",
    "    locked1 = []\n",
    "    locked2 = []\n",
    "    i = 0\n",
    "\n",
    "    while i < 5000:\n",
    "        i += 1\n",
    "        g1 += a3\n",
    "        g2 += a4\n",
    "        c1 = g1\n",
    "        c2 = g2\n",
    "        if g1 > 20:\n",
    "            g2 += b1  * abs(c1 - c2)\n",
    "        c1a.append(c1)\n",
    "        c2a.append(c2)\n",
    "        if g2 > 20:\n",
    "            g2 = 0\n",
    "            locked2.append(i)\n",
    "        if g1 > 20:\n",
    "            g1 = 0\n",
    "            locked1.append(i) \n",
    "        time.append(t)\n",
    "        t += 1\n",
    "\n",
    "    d = min(len(locked1), len(locked2))\n",
    "    yeni1 = []\n",
    "    yeni2 = []\n",
    "\n",
    "    for i in range(d - 1):\n",
    "        yeni1.append(int(locked1[i + 1] - locked1[i]))\n",
    "        yeni2.append(int(locked2[i + 1] - locked2[i]))\n",
    "\n",
    "    ta = np.arange(0, d - 1, 1)\n",
    "    f=(1/a3-1/a4)/(1/a4)\n",
    "    plt.figure(figsize=(14, 5))\n",
    "    plt.plot(ta, yeni1, 'ro', label='c1 (master)')\n",
    "    plt.plot(ta, yeni2, 'bo', label='c2 (slave)')\n",
    "    plt.xlabel(\"Pulse #\")\n",
    "    plt.ylabel(\"Period (Δt)\")\n",
    "    plt.title(f\"Oscillator Synchronization (b1 = {b1})\")\n",
    "    plt.title(f'critical g = {f}')\n",
    "    plt.legend()\n",
    "    plt.grid(True)\n",
    "    plt.show()\n",
    "\n",
    "# Slider: b1 değerini 0 ile 1 arasında oynat\n",
    "interact(oscillator_model, b1=FloatSlider(value=0.5, min=0, max=1.4, step=0.01))\n"
   ]
  },
  {
   "cell_type": "code",
   "execution_count": null,
   "id": "4b74ebe6",
   "metadata": {},
   "outputs": [],
   "source": []
  }
 ],
 "metadata": {
  "kernelspec": {
   "display_name": "Python 3",
   "language": "python",
   "name": "python3"
  },
  "language_info": {
   "codemirror_mode": {
    "name": "ipython",
    "version": 3
   },
   "file_extension": ".py",
   "mimetype": "text/x-python",
   "name": "python",
   "nbconvert_exporter": "python",
   "pygments_lexer": "ipython3",
   "version": "3.10.7"
  }
 },
 "nbformat": 4,
 "nbformat_minor": 5
}
