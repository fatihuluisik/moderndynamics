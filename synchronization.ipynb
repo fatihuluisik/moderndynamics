{
 "cells": [
  {
   "cell_type": "code",
   "execution_count": null,
   "id": "d8c95c2b",
   "metadata": {},
   "outputs": [
    {
     "data": {
      "application/vnd.jupyter.widget-view+json": {
       "model_id": "17f8de92aaa143aba4448651433f0a0d",
       "version_major": 2,
       "version_minor": 0
      },
      "text/plain": [
       "interactive(children=(FloatSlider(value=0.45, description='b1', max=1.0, step=0.01), Output()), _dom_classes=(…"
      ]
     },
     "metadata": {},
     "output_type": "display_data"
    }
   ],
   "source": [
    "import numpy as np\n",
    "import matplotlib.pyplot as plt\n",
    "from ipywidgets import interact, FloatSlider\n",
    "import ipywidgets as widgets\n",
    "\n",
    "def simulate(b1):\n",
    "    a2 = 5.0  # phase shift\n",
    "    a3 = 0.15 # frequency\n",
    "    c1 = 0    # master oscillator\n",
    "    c2 = 0    # slave oscillator\n",
    "    g1 = a2\n",
    "    g2 = 0\n",
    "    c1a = []\n",
    "    c2a = []\n",
    "    time = []\n",
    "    t = 1\n",
    "    i = 0\n",
    "\n",
    "    while i < 1200:\n",
    "        i += 1\n",
    "        g1 += a3\n",
    "        g2 += a3\n",
    "        c1 = g1\n",
    "        c2 = g2\n",
    "        if g1 > 20:\n",
    "            g2 += b1 * 0.85 * abs(c1 - c2)\n",
    "        c1a.append(c1)\n",
    "        c2a.append(c2)\n",
    "        if g2 > 20:\n",
    "            g2 = 0\n",
    "        if g1 > 20:\n",
    "            g1 = 0\n",
    "        time.append(t)\n",
    "        t += 1\n",
    "\n",
    "    plt.figure(figsize=(10, 5))\n",
    "    plt.plot(time, c1a, 'r', label='c1 (master)')\n",
    "    plt.plot(time, c2a, 'b', label='c2 (slave)')\n",
    "    plt.xlabel('Time')\n",
    "    plt.ylabel('Oscillator value')\n",
    "    plt.title(f'b1 = {b1}')\n",
    "    plt.legend()\n",
    "    plt.grid(True)\n",
    "    plt.show()\n",
    "\n",
    "# b1 için slider widget\n",
    "interact(simulate, b1=FloatSlider(value=0.45, min=0.0, max=1.0, step=0.01, description='b1'));\n",
    "\n",
    "\n"
   ]
  },
  {
   "cell_type": "code",
   "execution_count": null,
   "id": "c6844860",
   "metadata": {},
   "outputs": [],
   "source": []
  }
 ],
 "metadata": {
  "kernelspec": {
   "display_name": "Python 3",
   "language": "python",
   "name": "python3"
  },
  "language_info": {
   "codemirror_mode": {
    "name": "ipython",
    "version": 3
   },
   "file_extension": ".py",
   "mimetype": "text/x-python",
   "name": "python",
   "nbconvert_exporter": "python",
   "pygments_lexer": "ipython3",
   "version": "3.10.7"
  }
 },
 "nbformat": 4,
 "nbformat_minor": 5
}
